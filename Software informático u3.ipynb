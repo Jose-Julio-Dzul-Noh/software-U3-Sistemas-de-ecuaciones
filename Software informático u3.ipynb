{
 "cells": [
  {
   "cell_type": "code",
   "execution_count": null,
   "metadata": {},
   "outputs": [],
   "source": [
    "#software informatico\n",
    "#Materia:Metodos Numericos\n",
    "#Docente:MM.Jorge Pool Cen\n",
    "#unidad 3\n",
    "#Sistemas computacionales 4-A\n",
    "#Integrantes del equipo:\n",
    "#Dzul Noh Jose Julio\n",
    "#Llanes Barrera Luis Angel\n",
    "#Poot Pool Riger Emmanuel"
   ]
  },
  {
   "cell_type": "markdown",
   "metadata": {},
   "source": [
    "**METODOS DE SOLUCION PARA ECUACIONES LINELAES**"
   ]
  },
  {
   "cell_type": "markdown",
   "metadata": {},
   "source": [
    "**METODO DE JACOBI**"
   ]
  },
  {
   "cell_type": "code",
   "execution_count": 2,
   "metadata": {},
   "outputs": [],
   "source": [
    "import numpy as np\n",
    "\n",
    "T= np.asarray([[0,1/10,-1/5,0],[1/11,0,1/11,-3/11],[-1/5,1/10,0,1/10],[0,-3/8,1/8,0]])\n",
    "C= np.asarray([3/5,25/11,-11/10,15/8])\n",
    "X= np.asarray([0,0,0,0])"
   ]
  },
  {
   "cell_type": "code",
   "execution_count": 3,
   "metadata": {},
   "outputs": [
    {
     "name": "stdout",
     "output_type": "stream",
     "text": [
      "vector resultado en Iteracion  1  :  [ 0.6         2.27272727 -1.1         1.875     ]\n",
      "vector resultado en Iteracion  2  :  [ 1.04727273  1.71590909 -0.80522727  0.88522727]\n",
      "vector resultado en Iteracion  3  :  [ 0.93263636  2.05330579 -1.04934091  1.13088068]\n",
      "vector resultado en Iteracion  4  :  [ 1.01519876  1.95369576 -0.96810863  0.97384272]\n",
      "vector resultado en Iteracion  5  :  [ 0.9889913   2.01141473 -1.0102859   1.02135051]\n",
      "vector resultado en Iteracion  6  :  [ 1.00319865  1.99224126 -0.99452174  0.99443374]\n",
      "vector resultado en Iteracion  7  :  [ 0.99812847  2.00230688 -1.00197223  1.00359431]\n",
      "vector resultado en Iteracion  8  :  [ 1.00062513  1.9986703  -0.99903558  0.99888839]\n",
      "vector resultado en Iteracion  9  :  [ 0.99967415  2.00044767 -1.00036916  1.00061919]\n",
      "Solucion final aproximada[ 0.99967415  2.00044767 -1.00036916  1.00061919]\n"
     ]
    }
   ],
   "source": [
    "def jacobi (T,C,X, error, iteraciones):\n",
    "    e=1\n",
    "    i=0\n",
    "    while i<iteraciones:\n",
    "        resultado = np.dot(T,X)+C\n",
    "        numerador = np.amax(abs(resultado-X))\n",
    "        denominador = np.amax(abs(resultado))\n",
    "        e= numerador/denominador\n",
    "        print(\"vector resultado en Iteracion \",(i+1), \" : \",resultado)\n",
    "        X=resultado\n",
    "        if e< error:\n",
    "            return \"Solucion final aproximada\"+ str(X)\n",
    "            break\n",
    "        i+=1\n",
    "    return \"SE HA ALCANZADO EL NUMERO MAXIMO DE ITERACIONES\" +\"\\nLa solucion alcanzada con \" + str((i))+\"iteraciones es: \" + str(X)\n",
    "    \n",
    "print(jacobi(T,C,X,0.001,10))"
   ]
  },
  {
   "cell_type": "code",
   "execution_count": null,
   "metadata": {},
   "outputs": [],
   "source": []
  },
  {
   "cell_type": "markdown",
   "metadata": {},
   "source": [
    "**METODO DE GAUSS SEIDEL**"
   ]
  },
  {
   "cell_type": "code",
   "execution_count": 4,
   "metadata": {},
   "outputs": [],
   "source": [
    "import numpy as np\n",
    "T = np.asarray([[0,1/3,-1/3],[-1/2,0,-1/3],[-3/7,-3/7,0]])\n",
    "c=np.asarray([1/3,0,4/7])\n",
    "x=np.asarray([0,0,0])\n",
    "x=x.astype(float)\n",
    "xcambiante=x\n",
    "xcambiante=xcambiante.astype(float)"
   ]
  },
  {
   "cell_type": "code",
   "execution_count": 5,
   "metadata": {},
   "outputs": [
    {
     "name": "stdout",
     "output_type": "stream",
     "text": [
      "Error:  1.0\n",
      "Vector resultado:  [ 0.33333333 -0.16666667  0.5       ]\n",
      "Error:  0.3589743589743589\n",
      "Vector resultado:  [ 0.11111111 -0.22222222  0.61904762]\n",
      "Error:  0.08974358974358974\n",
      "Vector resultado:  [ 0.05291005 -0.23280423  0.64852608]\n",
      "Error:  0.02036838782288831\n",
      "Vector resultado:  [ 0.03955656 -0.23595364  0.65559875]\n",
      "Error:  0.005183562786816872\n",
      "Vector resultado:  [ 0.0361492  -0.23660752  0.65733928]\n"
     ]
    }
   ],
   "source": [
    "error=1\n",
    "while error>0.01:\n",
    "    x1=np.dot(T[[0,0,0], [0,1,2]],xcambiante)\n",
    "    x1+=c[0]\n",
    "    xcambiante[0]=x1\n",
    "    x2=np.dot(T[[1,1,1], [0,1,2]],xcambiante)\n",
    "    x2+=c[1]\n",
    "    xcambiante[1]=x2\n",
    "    x3=np.dot(T[[2,2,2], [0,1,2]],xcambiante)\n",
    "    x3+=c[2]\n",
    "    xcambiante[2]=x3\n",
    "    #x4=np.dot(T[[3,3,3], [0,1,2]],xcambiante)\n",
    "    #x4+=c[3]\n",
    "    #xcambiante[3]=x4\n",
    "    resultado=np.asarray([x1,x2,x3])\n",
    "    numerador = np.amax(abs(resultado-x))\n",
    "    denominador = np.amax(abs(resultado))\n",
    "    error= numerador/denominador\n",
    "    print(\"Error: \",error)\n",
    "    print(\"Vector resultado: \",resultado)\n",
    "    x=resultado"
   ]
  },
  {
   "cell_type": "code",
   "execution_count": null,
   "metadata": {},
   "outputs": [],
   "source": []
  },
  {
   "cell_type": "markdown",
   "metadata": {},
   "source": [
    "**METODOS DE SOLUCION PARA ECUACIONES NO LINEALES**"
   ]
  },
  {
   "cell_type": "markdown",
   "metadata": {},
   "source": [
    "**METODO DE PUNTO FIJO**"
   ]
  },
  {
   "cell_type": "code",
   "execution_count": 6,
   "metadata": {},
   "outputs": [],
   "source": [
    "import numpy as np"
   ]
  },
  {
   "cell_type": "code",
   "execution_count": 7,
   "metadata": {},
   "outputs": [],
   "source": [
    "def punto_fijo(x):\n",
    "    T = np.array([(-4*x[0]**2-1/4*x[1]**2-8)/-20,(-1/2*x[0]*x[1]**2-2*x[0]-8)/-5])\n",
    "    return T"
   ]
  },
  {
   "cell_type": "code",
   "execution_count": 8,
   "metadata": {},
   "outputs": [],
   "source": [
    "x=np.array([0,0])\n",
    "x=x.astype(float)\n",
    "error=1"
   ]
  },
  {
   "cell_type": "code",
   "execution_count": 9,
   "metadata": {},
   "outputs": [
    {
     "name": "stdout",
     "output_type": "stream",
     "text": [
      "Vector resultado:  [0.4 1.6]\n",
      "Vector resultado:  [0.464  1.8624]\n",
      "Vector resultado:  [0.48641587 1.94653997]\n",
      "Vector resultado:  [0.4946828  1.97887019]\n",
      "Vector resultado:  [0.49789131 1.99158731]\n",
      "Vector resultado:  [0.4991594  1.99664113]\n",
      "Vector resultado:  [0.49966422 1.99865744]\n"
     ]
    }
   ],
   "source": [
    "while error>0.001:\n",
    "    r=punto_fijo(x)\n",
    "    resultado=r\n",
    "    numerador = np.amax(abs(resultado-x))\n",
    "    denominador = np.amax(abs(resultado))\n",
    "    error= numerador/denominador\n",
    "    if error>=0.001:\n",
    "        print(\"Vector resultado: \",resultado)\n",
    "        x=resultado"
   ]
  },
  {
   "cell_type": "code",
   "execution_count": null,
   "metadata": {},
   "outputs": [],
   "source": []
  },
  {
   "cell_type": "markdown",
   "metadata": {},
   "source": [
    "**METODO DE NEWTON RAPHSON**"
   ]
  },
  {
   "cell_type": "code",
   "execution_count": 13,
   "metadata": {},
   "outputs": [],
   "source": [
    "import numpy as np\n",
    "\n",
    "from math import *\n",
    "\n",
    "def jacobiano(x):\n",
    "    J = np.array([[3,x[2]*sin(x[1]*x[2]),x[1]*sin(x[1]*x[2])],[2*x[0], -162*(x[1]+0.1), cos(x[2])],[-x[1]*exp(-x[0]*x[1]), -x[0]*exp(-x[0]*x[1]), 20]])\n",
    "    JInversa = np.linalg.inv(J)\n",
    "    return JInversa\n",
    "\n",
    "def Fx(x):\n",
    "    xk=np.array([3*x[0]-cos(x[1]*x[2])-1/2, x[0]**2-81*(x[1]+0.1)**2+sin(x[2])+1.06, exp(-x[0]*x[1])+ 20*x[2] + (10*pi-3)/3])\n",
    "    \n",
    "    #x1 = 3*x[0]-cos(x[1]*x[2])-1/2\n",
    "    \n",
    "    #x2= x[0]**2-81*(x[1]+0.1)**2+sin(x[2])+1.06\n",
    "    \n",
    "    #x3=exp(-x[0]*x[1])+ 20*x[2] + (10-math.pi-3)/3\n",
    "    #xk = np.array([x1,x2,x3])\n",
    "    return xk"
   ]
  },
  {
   "cell_type": "code",
   "execution_count": 14,
   "metadata": {},
   "outputs": [],
   "source": [
    "x = np.array([0.1,0.1,-0.1]) #vector de valores iniciales\n",
    "error = 1\n",
    "c=0"
   ]
  },
  {
   "cell_type": "code",
   "execution_count": 15,
   "metadata": {},
   "outputs": [
    {
     "name": "stdout",
     "output_type": "stream",
     "text": [
      "Iteración: 1  Resultado  [ 0.49986967  0.01946685 -0.52152047]\n",
      "Iteración: 2  Resultado  [ 0.50001424  0.00158859 -0.52355696]\n",
      "Iteración: 3  Resultado  [ 5.00000113e-01  1.24447833e-05 -5.23598450e-01]\n"
     ]
    }
   ],
   "source": [
    "while error>0.01:\n",
    "    c+=1\n",
    "    r= jacobiano(x)\n",
    "    feval = Fx(x)\n",
    "    resultado =x- np.dot(r,feval)\n",
    "    \n",
    "    numerador = np.amax( abs((resultado - x)))\n",
    "    denominador = np.amax( abs(resultado))\n",
    "    error = numerador/denominador\n",
    "    x=resultado\n",
    "    \n",
    "    print(\"Iteración:\",c,\" Resultado \",resultado)"
   ]
  },
  {
   "cell_type": "code",
   "execution_count": null,
   "metadata": {},
   "outputs": [],
   "source": []
  }
 ],
 "metadata": {
  "kernelspec": {
   "display_name": "Python 3",
   "language": "python",
   "name": "python3"
  },
  "language_info": {
   "codemirror_mode": {
    "name": "ipython",
    "version": 3
   },
   "file_extension": ".py",
   "mimetype": "text/x-python",
   "name": "python",
   "nbconvert_exporter": "python",
   "pygments_lexer": "ipython3",
   "version": "3.8.5"
  }
 },
 "nbformat": 4,
 "nbformat_minor": 4
}
